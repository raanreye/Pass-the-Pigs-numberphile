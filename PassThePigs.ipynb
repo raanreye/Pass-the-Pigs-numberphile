{
 "cells": [
  {
   "cell_type": "markdown",
   "id": "42c1e76e-f3a2-4956-b17f-af1db7070c8c",
   "metadata": {},
   "source": [
    "\"Pass the Pigs\" is a fun and simple dice game, but instead of dice, players toss two little rubber pigs. Each pig's landing position scores different points. For instance:\n",
    "\n",
    "    Sider (both pigs lying on the same side): 1 point.\n",
    "    Double Razorback (both pigs on their backs): 20 points.\n",
    "    Double Snouter (both pigs standing on their snouts): 40 points.\n",
    "\n",
    "The aim is to score exactly 100 points. On each turn, a player can decide to keep throwing the pigs to accumulate more points or pass them to the next player. But be careful! If the pigs land in positions that score zero points (like one pig on its back and the other on its side, known as an \"oinker\"), the player loses all points from that turn, and the pigs are passed on. If you score more than 100 points, you bust and lose all points from that round too. The game often involves risk and strategy in deciding when to stop throwing and when to keep going.\n",
    "\n",
    "What will you get from this script?\n",
    "\n"
   ]
  },
  {
   "cell_type": "code",
   "execution_count": null,
   "id": "e7260118-30b7-41b6-947d-8b3d71d8102c",
   "metadata": {},
   "outputs": [],
   "source": []
  },
  {
   "cell_type": "code",
   "execution_count": 5,
   "id": "d6a0d612-6513-49e4-ba02-5a73096ea77b",
   "metadata": {},
   "outputs": [],
   "source": [
    "import pandas as pd"
   ]
  },
  {
   "cell_type": "code",
   "execution_count": 46,
   "id": "b9484a2c-5f33-4b78-84cf-d104e2e64e85",
   "metadata": {},
   "outputs": [],
   "source": [
    "# Lets define the probability and point system of this game.\n",
    "# Values taken from https://pubsonline.informs.org/doi/pdf/10.1287/ited.1120.0088\n",
    "\n",
    "# Probabilities for each position a pig can land in\n",
    "positions = {\n",
    "    'Side (no dot)': 34.9,\n",
    "    'Side (dot)': 30.2,\n",
    "    'Razorback': 22.4,\n",
    "    'Trotter': 8.8,\n",
    "    'Snouter': 3.0,\n",
    "    'Leaning Jowler': 0.6\n",
    "}\n",
    "\n",
    "# Point System\n",
    "data = {\n",
    "    'Side (no dot)': [1, 0, 5, 5, 10, 15],\n",
    "    'Side (dot)': [0, 1, 5, 5, 10, 15],\n",
    "    'Razorback': [5, 5, 20, 10, 10, 20],\n",
    "    'Trotter': [5, 5, 10, 20, 15, 20],\n",
    "    'Snouter': [10, 10, 15, 15, 40, 25],\n",
    "    'Leaning Jowler': [15, 15, 20, 20, 25, 60]\n",
    "}\n",
    "\n",
    "# Define the index for the DataFrame\n",
    "index = ['Side (no dot)', 'Side (dot)', 'Razorback', 'Trotter', 'Snouter', 'Leaning Jowler']\n"
   ]
  },
  {
   "cell_type": "code",
   "execution_count": 47,
   "id": "a7b8c054-054a-48fa-b652-f30d12bd3099",
   "metadata": {},
   "outputs": [
    {
     "name": "stdout",
     "output_type": "stream",
     "text": [
      "                Side (no dot)  Side (dot)  Razorback  Trotter  Snouter  \\\n",
      "Side (no dot)               1           0          5        5       10   \n",
      "Side (dot)                  0           1          5        5       10   \n",
      "Razorback                   5           5         20       10       15   \n",
      "Trotter                     5           5         10       20       15   \n",
      "Snouter                    10          10         10       15       40   \n",
      "Leaning Jowler             15          15         20       20       25   \n",
      "\n",
      "                Leaning Jowler  \n",
      "Side (no dot)               15  \n",
      "Side (dot)                  15  \n",
      "Razorback                   20  \n",
      "Trotter                     20  \n",
      "Snouter                     25  \n",
      "Leaning Jowler              60  \n",
      "                Side (no dot)  Side (dot)  Razorback   Trotter   Snouter  \\\n",
      "Side (no dot)        0.122045    0.105609   0.078333  0.030774  0.010491   \n",
      "Side (dot)           0.105609    0.091387   0.067783  0.026629  0.009078   \n",
      "Razorback            0.078333    0.067783   0.050277  0.019751  0.006733   \n",
      "Trotter              0.030774    0.026629   0.019751  0.007760  0.002645   \n",
      "Snouter              0.010491    0.009078   0.006733  0.002645  0.000902   \n",
      "Leaning Jowler       0.002098    0.001816   0.001347  0.000529  0.000180   \n",
      "\n",
      "                Leaning Jowler  \n",
      "Side (no dot)         0.002098  \n",
      "Side (dot)            0.001816  \n",
      "Razorback             0.001347  \n",
      "Trotter               0.000529  \n",
      "Snouter               0.000180  \n",
      "Leaning Jowler        0.000036  \n"
     ]
    }
   ],
   "source": [
    "# Create the DataFrame\n",
    "df_points = pd.DataFrame(data, index=index)\n",
    "\n",
    "# Print the DataFrame\n",
    "print(df_points)\n",
    "\n",
    "# Normalize probabilities to sum to 1 (they are given in percentages)\n",
    "total_probability = sum(positions.values())\n",
    "for key in positions.keys():\n",
    "    positions[key] /= total_probability\n",
    "\n",
    "# Compute the joint probabilities for two pigs\n",
    "data = []\n",
    "for pos1, prob1 in positions.items():\n",
    "    row = []\n",
    "    for pos2, prob2 in positions.items():\n",
    "        # Multiply the probabilities of the two positions\n",
    "        joint_probability = prob1 * prob2\n",
    "        row.append(joint_probability)\n",
    "    data.append(row)\n",
    "\n",
    "# Creating a DataFrame to display the probabilities in a table format\n",
    "df_prob = pd.DataFrame(data, columns=positions.keys(), index=positions.keys())\n",
    "\n",
    "# Display the table\n",
    "print(df_prob)"
   ]
  },
  {
   "cell_type": "markdown",
   "id": "63038fbd-a91f-4c75-801c-dd0af21308c3",
   "metadata": {},
   "source": [
    "### Model 1: How many times should I role the pigs?\n",
    "\n",
    "We will roll \"n\" times.\n",
    "\n",
    "Therefore, for n rolls, the expected total score, given you only score if you don't roll a 'Side (no dot)' and 'Side (dot)', would be:\n",
    "\n",
    "E(total score)=P(roll again)^n×E(points)×n\n",
    "\n",
    "Where,\n",
    "\n",
    "P(roll again) = probability that the pigs do not land as'Side (no dot)' and 'Side (dot)'\n",
    "\n",
    "and \n",
    "\n",
    "E(points) =  expected score on a roll, which is the average of the points scored, weighted by the probability of each roll.\n"
   ]
  },
  {
   "cell_type": "code",
   "execution_count": 53,
   "id": "169be99c-c047-490e-b247-08206a662c47",
   "metadata": {},
   "outputs": [
    {
     "name": "stdout",
     "output_type": "stream",
     "text": [
      "The probability that the pigs do not land as'Side (no dot)' and 'Side (dot)': 0.7888\n"
     ]
    }
   ],
   "source": [
    "#  Probability that the pigs do not land as'Side (no dot)' and 'Side (dot)'\n",
    "total_prob = df_prob.sum().sum()  # Sum of all probabilities (good check should be 1)\n",
    "go_again_prob = 1-  df_prob.loc['Side (no dot)', 'Side (dot)'] - df.loc['Side (dot)', 'Side (no dot)']\n",
    "\n",
    "print(f\"The probability that the pigs do not land as'Side (no dot)' and 'Side (dot)': {go_again_prob:.4f}\")"
   ]
  },
  {
   "cell_type": "code",
   "execution_count": null,
   "id": "43d79d37-9ffc-49b0-a85a-e8b75144043e",
   "metadata": {},
   "outputs": [],
   "source": [
    "# Expected score on a roll, which is the average of the points scored, weighted by the probability of each roll.\n",
    "\n"
   ]
  },
  {
   "cell_type": "code",
   "execution_count": 52,
   "id": "5610cfd4-5e80-424b-96f2-54fea12addfd",
   "metadata": {},
   "outputs": [],
   "source": []
  },
  {
   "cell_type": "code",
   "execution_count": null,
   "id": "998ea4a2-8d1b-495a-ac0c-e7f1d830c832",
   "metadata": {},
   "outputs": [],
   "source": []
  },
  {
   "cell_type": "code",
   "execution_count": null,
   "id": "2831e086-b11d-439b-b4d1-b1eca3949d00",
   "metadata": {},
   "outputs": [],
   "source": []
  },
  {
   "cell_type": "code",
   "execution_count": null,
   "id": "875506f8-91ed-4bcb-ae05-3aa3b2257442",
   "metadata": {},
   "outputs": [],
   "source": []
  },
  {
   "cell_type": "code",
   "execution_count": 41,
   "id": "471b18fd-4845-4ec2-9d11-76e189c9c78a",
   "metadata": {},
   "outputs": [
    {
     "ename": "NameError",
     "evalue": "name 'positions_probabilities' is not defined",
     "output_type": "error",
     "traceback": [
      "\u001b[1;31m---------------------------------------------------------------------------\u001b[0m",
      "\u001b[1;31mNameError\u001b[0m                                 Traceback (most recent call last)",
      "Cell \u001b[1;32mIn[41], line 2\u001b[0m\n\u001b[0;32m      1\u001b[0m \u001b[38;5;66;03m# Calculate the expected value of points for each position\u001b[39;00m\n\u001b[1;32m----> 2\u001b[0m expected_values \u001b[38;5;241m=\u001b[39m {position: \u001b[38;5;241m0\u001b[39m \u001b[38;5;28;01mfor\u001b[39;00m position \u001b[38;5;129;01min\u001b[39;00m \u001b[43mpositions_probabilities\u001b[49m}\n\u001b[0;32m      4\u001b[0m \u001b[38;5;28;01mfor\u001b[39;00m position \u001b[38;5;129;01min\u001b[39;00m positions_probabilities:\n\u001b[0;32m      5\u001b[0m     probability \u001b[38;5;241m=\u001b[39m positions_probabilities[position] \u001b[38;5;241m/\u001b[39m \u001b[38;5;241m100\u001b[39m\n",
      "\u001b[1;31mNameError\u001b[0m: name 'positions_probabilities' is not defined"
     ]
    }
   ],
   "source": [
    "# Calculate the expected value of points for each position\n",
    "expected_values = {position: 0 for position in positions_probabilities}\n",
    "\n",
    "for position in positions_probabilities:\n",
    "    probability = positions_probabilities[position] / 100\n",
    "    points = data[position]\n",
    "    # Calculate weighted average points for this position\n",
    "    expected_value = sum(p * probability for p in points)\n",
    "    expected_values[position] = expected_value\n",
    "\n",
    "# Calculate the total expected value (average points scored per throw)\n",
    "total_expected_value = sum(expected_values.values())\n",
    "total_expected_value"
   ]
  },
  {
   "cell_type": "code",
   "execution_count": null,
   "id": "0ad3d29e-f9ef-443e-b1f6-1db5781fb4af",
   "metadata": {},
   "outputs": [],
   "source": []
  }
 ],
 "metadata": {
  "kernelspec": {
   "display_name": "Python 3 (ipykernel)",
   "language": "python",
   "name": "python3"
  },
  "language_info": {
   "codemirror_mode": {
    "name": "ipython",
    "version": 3
   },
   "file_extension": ".py",
   "mimetype": "text/x-python",
   "name": "python",
   "nbconvert_exporter": "python",
   "pygments_lexer": "ipython3",
   "version": "3.12.2"
  }
 },
 "nbformat": 4,
 "nbformat_minor": 5
}
